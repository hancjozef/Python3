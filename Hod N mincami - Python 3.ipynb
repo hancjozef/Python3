{
 "cells": [
  {
   "cell_type": "markdown",
   "metadata": {},
   "source": [
    "**<font size=6 color='545AA7'> Monte Carlo simulácia v Pythone - Hod N mincami </font>**\n",
    "\n",
    "**Ovládanie simulácie**\n",
    "\n",
    "- myškou si *<font color='545AA7'> vyberiete </font>* daný blok príkazov (simuláciu) kliknutím `vľavo` tesne vedľa daný blok\n",
    "- opakovaným stlačením klávesov `CTRL+Enter` *<font color='545AA7'> vykonáte</font>* vybraný blok príkazov (koľko krát potrebujete)\n",
    "    - kliknutím do riadku `N = 100` môžete *<font color='545AA7'>prepísať </font>* počet mincí pri hode, napr. prepísaním na `N = 10000`  \n",
    "    - v hranatých zátvorkách (<font color='545AA7'>In [1]</font>) *<font color='545AA7'>vidíte</font>*, koľkokrát ste vykonali danú simuláciu\n",
    "        \n",
    "\n",
    "<font size=2>**Pozn.** V Pythone možno zadať napr. 1000 mincí v skrátenom tvare $\\,\\verb|10**3|\\,$, kde 2 znaky násobenia ** (2 hviezdičky z numerickej klávesnice)   \n",
    "znamenajú umocnenie, t.j. $\\,\\verb|**3|\\,$ znamená umocnenie na tretiu.</font>"
   ]
  },
  {
   "cell_type": "code",
   "execution_count": 1,
   "metadata": {
    "scrolled": true
   },
   "outputs": [
    {
     "name": "stdout",
     "output_type": "stream",
     "text": [
      "Štatistika hodov:\n",
      "počet znakov =  44 ,  počet všetkých mincí =  100\n",
      "\n",
      "Zobrazujem prvých (max. 10 000) mincí z(o)  100  mincí:\n",
      "[0 0 0 1 1 1 0 1 0 1 0 0 0 1 0 0 0 0 0 0 0 1 0 1 1 1 0 0 1 0 1 1 0 1 0 0 1\n",
      " 0 0 0 1 0 0 1 0 1 1 0 0 0 1 0 0 0 1 0 0 1 1 0 1 1 1 1 1 0 1 0 0 0 0 0 1 0\n",
      " 0 1 1 0 1 1 1 0 1 1 0 1 1 0 1 0 0 0 1 1 1 0 0 0 0 1]\n",
      "\n"
     ]
    }
   ],
   "source": [
    "# načítanie knižnice príkazov pre Monte Carlo simuláciu hodu mincami\n",
    "import MonteCarlo as MC        \n",
    "\n",
    "# zadanie počtu mincí a generovanie hodu N mincami naraz: 1 - znak, 0 - písmo\n",
    "N = 100                      \n",
    "hod = MC.hodmincami(N)\n",
    "\n",
    "# zobrazenie a štatistika vygenerovaného hodu N mincami\n",
    "MC.statistika(hod)\n",
    "MC.zobraz(hod)"
   ]
  },
  {
   "cell_type": "markdown",
   "metadata": {},
   "source": [
    "**Detailnejšie vysvetlivky k príkazom simulácie**  \n",
    "- ```python \n",
    "  import MonteCarlo as MC   # načítali sme do simulácie knižnicu MonteCarlo pod skráteným menom MC\n",
    "  ``` \n",
    "- `# text`: komentár v bloku, ktorý počítač ignoruje, ale užívateľovi slúži ako pomôcka\n",
    "- `MC.` : vyberáme príkaz z knižnice MonteCarlo (MC)\n",
    "- `hodmincou(N)` : príkaz z knižnice MC na generovanie N hodov mincou naraz\n",
    "- `statistika(hody)` : príkaz z knižnice MC na výpis štatistiky hodov - počtu znakov a počtu hodov\n",
    "- `zobraz(hody)` : príkaz z knižnice MC na zobrazenie vygenerovaných hodov"
   ]
  }
 ],
 "metadata": {
  "kernelspec": {
   "display_name": "Python 3",
   "language": "python",
   "name": "python3"
  },
  "language_info": {
   "codemirror_mode": {
    "name": "ipython",
    "version": 3
   },
   "file_extension": ".py",
   "mimetype": "text/x-python",
   "name": "python",
   "nbconvert_exporter": "python",
   "pygments_lexer": "ipython3",
   "version": "3.6.3"
  }
 },
 "nbformat": 4,
 "nbformat_minor": 2
}
